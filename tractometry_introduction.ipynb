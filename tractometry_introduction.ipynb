{
 "cells": [
  {
   "cell_type": "code",
   "execution_count": null,
   "id": "ff9d0f1d-bd82-4012-a082-69adf57297d6",
   "metadata": {},
   "outputs": [],
   "source": [
    "from afqinsight.datasets import download_weston_havens"
   ]
  },
  {
   "cell_type": "markdown",
   "id": "013e2756",
   "metadata": {},
   "source": [
    "Welcome to this tractometry introduction tutorial! This is designed to introduce you to the analysis and interpretation of tractometry data, which involves quantifying the microstructural properties of white matter tracts in the brain using pre-processed diffusion MRI data. In this tutorial, we are not collecting or processing and MRI data; tractometry data is provided from the Weston Havens dataset, and we will analyze it.\n",
    "\n",
    "Goals of the Notebook:\n",
    "Introduction to Tractometry Data: Gain a basic understanding of what tractometry data entails, including the different metrics (like FA, MD, AD, RD) and the structures of the data (different tracts, different nodes).\n",
    "\n",
    "Visualization: Visualize tractometry data using the python libraries matplotlib and seaborn.\n",
    "\n",
    "Statistical Modeling: Show how to apply statistical models to tractometry data to find relationships between it and phenotypic information.\n",
    "\n",
    "At the end of this notebook you must continue this analysis in whichever direction most interests you. Do not spend more than 1-2 hours extending this analysis, and we encourage you to ask questions at any point in the process! This can be done via email or by posting issues on this tutorial's github.\n"
   ]
  },
  {
   "cell_type": "code",
   "execution_count": null,
   "id": "73f74f77-e005-4093-aecf-d5c67e9fffc1",
   "metadata": {},
   "outputs": [],
   "source": [
    "# The download_weston_havens() function download the data used in this example\n",
    "# and places it in the ~/.cache/afq-insight/weston_havens directory.\n",
    "workdir = download_weston_havens()"
   ]
  },
  {
   "cell_type": "code",
   "execution_count": null,
   "id": "f44d7c0d-e210-4b89-9b2f-40b1d4fc96d4",
   "metadata": {},
   "outputs": [],
   "source": [
    "import pandas as pd\n",
    "import os.path as op"
   ]
  },
  {
   "cell_type": "code",
   "execution_count": null,
   "id": "e1c062e9-e7f0-48e0-a97e-6749d4cb2781",
   "metadata": {},
   "outputs": [],
   "source": [
    "tract_profiles = pd.read_csv(op.join(workdir, \"nodes.csv\"))\n",
    "subject_information = pd.read_csv(op.join(workdir, \"subjects.csv\"))"
   ]
  },
  {
   "cell_type": "code",
   "execution_count": null,
   "id": "a6e2cda7-3727-412f-a9aa-1f726b6e0d5b",
   "metadata": {},
   "outputs": [],
   "source": [
    "tract_profiles"
   ]
  },
  {
   "cell_type": "code",
   "execution_count": null,
   "id": "45c7bcd7-4c31-4e3a-8888-3f8076020ad9",
   "metadata": {},
   "outputs": [],
   "source": [
    "subject_information"
   ]
  },
  {
   "cell_type": "markdown",
   "id": "a5e25af4-6892-4d49-be46-9cf9c820a1ab",
   "metadata": {},
   "source": [
    "### Data Exploration\n",
    "The information in `nodes.csv` comes from diffusion MRI data analyzed according to tractometry. You can read more about diffusion MRI and tractometry from these two links: \n",
    "\n",
    "1. https://andysbrainbook.readthedocs.io/en/latest/MRtrix/MRtrix_Course/MRtrix_00_Diffusion_Overview.html\n",
    "\n",
    "2. https://yeatmanlab.github.io/pyAFQ/explanations/index.html\n",
    "\n",
    "3. https://yeatmanlab.github.io/pyAFQ/explanations/tractometry_pipeline.html\n",
    "\n",
    "Below is some code which gets started exploring the data.\n"
   ]
  },
  {
   "cell_type": "code",
   "execution_count": null,
   "id": "a605e593-1b4d-4b88-bf79-2a04b1b25668",
   "metadata": {},
   "outputs": [],
   "source": [
    "import matplotlib.pyplot as plt\n",
    "import seaborn as sns\n",
    "\n",
    "%matplotlib inline"
   ]
  },
  {
   "cell_type": "code",
   "execution_count": null,
   "id": "21ae5574-db65-45bc-be7c-37939ef10122",
   "metadata": {},
   "outputs": [],
   "source": [
    "# Age is our target variable. Let's start by looking at its distribution.\n",
    "plt.figure(figsize=(10, 6))\n",
    "sns.histplot(subject_information['Age'], kde=True, bins=30, color='skyblue')\n",
    "plt.title('Distribution of Age')\n",
    "plt.xlabel('Age')\n",
    "plt.ylabel('Frequency')\n",
    "plt.show()"
   ]
  },
  {
   "cell_type": "code",
   "execution_count": null,
   "id": "280a995b-f249-419e-9ff9-f17f5e1aa0bc",
   "metadata": {},
   "outputs": [],
   "source": [
    "# We are going to compare age to 'tract profiles.' what do they look like? Let's look at an example tract profile\n",
    "tract_profiles_sub000 = tract_profiles[tract_profiles.subjectID==\"subject_000\"]  # Look at only one subject, subject 000\n",
    "tract_profile_cstl = tract_profiles_sub000[tract_profiles_sub000.tractID==\"Left Corticospinal\"]  # Look at one tract, the corticospinal tract\n",
    "sns.lineplot(data=tract_profile_cstl, x='nodeID', y='fa')  # Look at one measure, fractional anisotropy (FA)"
   ]
  },
  {
   "cell_type": "code",
   "execution_count": null,
   "id": "d77e38ba-ec77-4e1a-a768-40dd9ffc426e",
   "metadata": {},
   "outputs": [],
   "source": [
    "# Let's look at all tract profiles for a single subject now\n",
    "sns.lineplot(data=tract_profiles_sub000, x='nodeID', y='fa', hue=\"tractID\")\n",
    "plt.legend(loc='upper left', bbox_to_anchor=(1, 1), title='Legend')"
   ]
  },
  {
   "cell_type": "code",
   "execution_count": null,
   "id": "9d6b7137-6bb4-4658-8111-7b4a5969f365",
   "metadata": {},
   "outputs": [],
   "source": [
    "# What a mess! And that is just for one measure. There is also MD\n",
    "sns.lineplot(data=tract_profiles_sub000, x='nodeID', y='md', hue=\"tractID\")\n",
    "plt.legend(loc='upper left', bbox_to_anchor=(1, 1), title='Legend')"
   ]
  },
  {
   "cell_type": "code",
   "execution_count": null,
   "id": "40cb4f51-a264-4497-b58e-24db66274644",
   "metadata": {},
   "outputs": [],
   "source": [
    "# Let's return to using all subjects\n",
    "# And let's simplify this by taking the mean across nodes, for now\n",
    "# Let's see the distribution of FA for a given bundle\n",
    "tract_profile_cstl = tract_profiles[tract_profiles.tractID==\"Left Corticospinal\"]\n",
    "grouped_data = tract_profile_cstl.drop(columns=\"tractID\").groupby('subjectID').mean()  \n",
    "\n",
    "plt.figure(figsize=(10, 6))\n",
    "sns.histplot(data=grouped_data, x='fa', kde=True, bins=30)\n",
    "plt.legend()\n",
    "plt.title('Distribution of FAs')\n",
    "plt.xlabel('FA')\n",
    "plt.ylabel('Frequency')\n",
    "plt.show()"
   ]
  },
  {
   "cell_type": "code",
   "execution_count": null,
   "id": "5c84e70f-e82d-4ea9-8495-a101ec06f175",
   "metadata": {},
   "outputs": [],
   "source": [
    "# Now let's see the distribution of FA for all bundles\n",
    "grouped_data = tract_profiles.groupby(['subjectID', 'tractID']).mean()  \n",
    "\n",
    "plt.figure(figsize=(10, 6))\n",
    "sns.histplot(data=grouped_data, x='fa',  hue='tractID', kde=True, bins=30)\n",
    "plt.legend()\n",
    "plt.title('Distribution of FAs')\n",
    "plt.xlabel('FA')\n",
    "plt.ylabel('Frequency')\n",
    "plt.show()"
   ]
  },
  {
   "cell_type": "code",
   "execution_count": null,
   "id": "6aac1d4c-bbc2-4e92-bb31-0572024096fb",
   "metadata": {},
   "outputs": [],
   "source": [
    "# So we have seen the distributions for our dMRI data, and for our age.\n",
    "# Now, merge these sources of information to see how the distributions correlate\n",
    "\n",
    "# this resets the grouped columns\n",
    "grouped_data = tract_profiles.groupby(['subjectID', 'tractID']).mean()  \n",
    "grouped_data.columns = [''.join(col).strip() for col in grouped_data.columns.values]\n",
    "grouped_data.reset_index(inplace=True)\n",
    "\n",
    "merged_data = pd.merge(grouped_data, subject_information, on='subjectID')\n",
    "\n",
    "plt.figure(figsize=(10, 6))\n",
    "sns.scatterplot(data=merged_data, x='Age', y='fa',  hue='tractID', alpha=0.6)\n",
    "plt.legend(loc='upper left', bbox_to_anchor=(1, 1), title='Legend')\n",
    "plt.title('Age vs Fractional Anisotropy (FA)')\n",
    "plt.xlabel('Age')\n",
    "plt.ylabel('FA (mean across tracts)')\n",
    "plt.show()"
   ]
  },
  {
   "cell_type": "code",
   "execution_count": null,
   "id": "0d247149-b6ab-4519-b901-674c5774d2d5",
   "metadata": {},
   "outputs": [],
   "source": [
    "# You might notice a slight drop off in FA after around age 40.\n",
    "# There is also lower FA below the age of 10.\n",
    "# Let's see if something similar occurs in MD\n",
    "plt.figure(figsize=(10, 6))\n",
    "sns.scatterplot(data=merged_data, x='Age', y='md', hue='tractID', alpha=0.6)\n",
    "plt.legend(loc='upper left', bbox_to_anchor=(1, 1), title='Legend')\n",
    "plt.title('Age vs Mean Diffusivity (MD)')\n",
    "plt.xlabel('Age')\n",
    "plt.ylabel('MD (mean across tracts)')\n",
    "plt.show()"
   ]
  },
  {
   "cell_type": "markdown",
   "id": "6f56bb30-5efb-433b-add6-39e66d3f101e",
   "metadata": {},
   "source": [
    "### Modelling the data\n",
    "Below is some code to model the relationship between the dMRI measures and age (age from `subjects.csv`).\n",
    "\n",
    "To start, we do some data wrangling. We simplify the data by taking the mean across nodeID. This might not be the right decision, but is a good place to start. There are currently 100 nodes per tract, and adjacent nodes are highly correlated. These large number of correlated measurements may cause problems for fitting models. However, parts of the tract may be more predictive than other parts of the tract, and taking an average throws away that information. Instead of taking an average, one can also sample every tenth (or fifth) node to reduce the number of correlated measurements."
   ]
  },
  {
   "cell_type": "code",
   "execution_count": null,
   "id": "14a27128-c7fe-4fdd-b176-1b450c6b5713",
   "metadata": {},
   "outputs": [],
   "source": [
    "print(tract_profiles.head(5))\n",
    "grouped_data = tract_profiles.groupby(['subjectID', 'tractID']).mean()  \n",
    "grouped_data.columns = [''.join(col).strip() for col in grouped_data.columns.values]\n",
    "grouped_data.reset_index(inplace=True)\n",
    "print(grouped_data.head(5))"
   ]
  },
  {
   "cell_type": "code",
   "execution_count": null,
   "id": "7dea3c3c-ea95-40f4-91c8-d1b1383056c2",
   "metadata": {},
   "outputs": [],
   "source": [
    "from sklearn.model_selection import train_test_split\n",
    "from sklearn.linear_model import LinearRegression\n",
    "from sklearn.metrics import mean_squared_error, r2_score\n",
    "from sklearn.pipeline import Pipeline\n",
    "from sklearn.impute import SimpleImputer\n",
    "\n",
    "# For simplicity, let's focus on FA and MD as our features to predict Age.\n",
    "X = merged_data[['fa', 'md']]\n",
    "y = merged_data['Age']\n",
    "\n",
    "# Splitting the dataset into training and testing sets\n",
    "X_train, X_test, y_train, y_test = train_test_split(X, y, test_size=0.2, random_state=42)\n",
    "\n",
    "# Let's start with imputation followed by linear regression\n",
    "# Imputation is necessary as not all bundles are found in all subjects, meaning there are NaNs in X\n",
    "pipeline_steps = [\n",
    "    ('imputer', SimpleImputer(strategy='mean')),  # Impute missing values using the mean\n",
    "    ('linear_reg', LinearRegression())            # Then, apply linear regression\n",
    "]\n",
    "linear_reg_pipeline = Pipeline(steps=pipeline_steps)\n",
    "linear_reg_pipeline.fit(X_train, y_train)\n",
    "y_pred = linear_reg_pipeline.predict(X_test)\n",
    "\n",
    "# There are a variety of ways to evaluate a model, here are two\n",
    "mse = mean_squared_error(y_test, y_pred)\n",
    "r2 = r2_score(y_test, y_pred)\n",
    "\n",
    "print(f\"Linear Regression Model MSE: {mse:.2f}\")\n",
    "print(f\"Linear Regression Model R² score: {r2:.2f}\")\n",
    "\n",
    "plt.figure(figsize=(10, 6))\n",
    "sns.scatterplot(x=y_test, y=y_pred)\n",
    "plt.title('Linear Regression predictions')\n",
    "plt.xlabel('Age')\n",
    "plt.ylabel('Predicted Age')\n",
    "plt.show()"
   ]
  },
  {
   "cell_type": "code",
   "execution_count": null,
   "id": "b72c20ad-972b-4393-a011-75c29d690dec",
   "metadata": {},
   "outputs": [],
   "source": [
    "# we can try different models\n",
    "from sklearn.ensemble import RandomForestRegressor\n",
    "\n",
    "pipeline_steps = [\n",
    "    ('imputer', SimpleImputer(strategy='mean')),\n",
    "    ('forest_reg', RandomForestRegressor(n_estimators=100, random_state=42))\n",
    "]\n",
    "forest_reg_pipeline = Pipeline(steps=pipeline_steps)\n",
    "forest_reg_pipeline.fit(X_train, y_train)\n",
    "y_pred_rf = forest_reg_pipeline.predict(X_test)\n",
    "\n",
    "mse_rf = mean_squared_error(y_test, y_pred_rf)\n",
    "r2_rf = r2_score(y_test, y_pred_rf)\n",
    "\n",
    "print(f\"Random Forest Regressor MSE: {mse_rf:.2f}\")\n",
    "print(f\"Random Forest Regressor R² score: {r2_rf:.2f}\")\n",
    "plt.figure(figsize=(10, 6))\n",
    "sns.scatterplot(x=y_test, y=y_pred)\n",
    "plt.title('Random Forest predictions')\n",
    "plt.xlabel('Age')\n",
    "plt.ylabel('Predicted Age')\n",
    "plt.show()"
   ]
  },
  {
   "cell_type": "markdown",
   "id": "b80778a3-f3b8-4044-bb66-4691d3013d88",
   "metadata": {},
   "source": [
    "It looks like linear regression works better of these two. But some next steps include (in no particular order):\n",
    "\n",
    "1. Investigating which tract(s) are most predictive of age? Least? You can use the linear regression coefficients for this.\n",
    "2. You could change the hyperparameters of random forest, or try different models to see if something can beat linear regression.\n",
    "3. You could try not simplifying the data so much, by using other tissue properties (rd, cl, ad) or not meaning across the nodes.\n",
    "\n",
    "# Tackle one of these next steps, or continue to explore the data in other creative ways!"
   ]
  },
  {
   "cell_type": "code",
   "execution_count": null,
   "id": "feb04faf-8739-4f51-8aa4-4282187210f1",
   "metadata": {},
   "outputs": [],
   "source": []
  }
 ],
 "metadata": {
  "kernelspec": {
   "display_name": "Python 3 (ipykernel)",
   "language": "python",
   "name": "python3"
  },
  "language_info": {
   "codemirror_mode": {
    "name": "ipython",
    "version": 3
   },
   "file_extension": ".py",
   "mimetype": "text/x-python",
   "name": "python",
   "nbconvert_exporter": "python",
   "pygments_lexer": "ipython3",
   "version": "3.11.8"
  }
 },
 "nbformat": 4,
 "nbformat_minor": 5
}
